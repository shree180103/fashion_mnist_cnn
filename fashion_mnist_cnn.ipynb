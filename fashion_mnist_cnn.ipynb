{
  "cells": [
    {
      "cell_type": "markdown",
      "metadata": {
        "id": "view-in-github",
        "colab_type": "text"
      },
      "source": [
        "<a href=\"https://colab.research.google.com/github/shree180103/fashion_mnist_cnn/blob/main/fashion_mnist_cnn.ipynb\" target=\"_parent\"><img src=\"https://colab.research.google.com/assets/colab-badge.svg\" alt=\"Open In Colab\"/></a>"
      ]
    },
    {
      "cell_type": "code",
      "execution_count": 1,
      "metadata": {
        "id": "TiQJdF6KJpSV"
      },
      "outputs": [],
      "source": [
        "import torch\n",
        "from torch import nn\n",
        "import torchvision\n",
        "from torchvision import transforms # gives functions for manipuilating  images\n",
        "from torchvision.transforms import ToTensor # used converting img or numpy to tensor\n",
        "from torch.utils.data import DataLoader # used to create pyton iterables over datset\n",
        "\n",
        "import numpy as np\n",
        "import pandas as pd\n",
        "import matplotlib.pyplot as plt\n",
        "\n",
        "\n"
      ]
    },
    {
      "cell_type": "markdown",
      "source": [
        "## getting our data"
      ],
      "metadata": {
        "id": "lhKm4VEnVlRb"
      }
    },
    {
      "cell_type": "code",
      "source": [
        "# setup training data\n",
        "from torchvision import datasets\n",
        "\n",
        "train_data=datasets.FashionMNIST(root=\"data\",# where to download data to\n",
        "                                 train=True,# do we want training data\n",
        "                                 download=True,\n",
        "                                 transform=ToTensor(),\n",
        "                                 target_transform=None # do we want to transform our target\n",
        "                                 )\n",
        "test_data=datasets.FashionMNIST(root=\"data\",# where to download data to\n",
        "                                 train=False,# do we want training data, if false then gives test data\n",
        "                                 download=True,\n",
        "                                 transform=torchvision.transforms.ToTensor(),\n",
        "                                 target_transform=None # do we want to transform our target\n",
        "                                 )\n"
      ],
      "metadata": {
        "id": "DY3vnwBcGrfD"
      },
      "execution_count": 107,
      "outputs": []
    },
    {
      "cell_type": "code",
      "source": [
        "len(train_data),len(test_data)"
      ],
      "metadata": {
        "colab": {
          "base_uri": "https://localhost:8080/"
        },
        "id": "WEleRbC4PlUX",
        "outputId": "bef0dc24-1aea-47ce-893b-e638f5a5d6f7"
      },
      "execution_count": 108,
      "outputs": [
        {
          "output_type": "execute_result",
          "data": {
            "text/plain": [
              "(60000, 10000)"
            ]
          },
          "metadata": {},
          "execution_count": 108
        }
      ]
    },
    {
      "cell_type": "code",
      "source": [
        "# see the first training examples\n",
        "\n",
        "image,label=train_data[0]\n",
        "image.shape,label"
      ],
      "metadata": {
        "colab": {
          "base_uri": "https://localhost:8080/"
        },
        "id": "yjO9BUiuP6Xr",
        "outputId": "cfb1371b-1fd6-4066-9502-52fb8941d2f0"
      },
      "execution_count": 109,
      "outputs": [
        {
          "output_type": "execute_result",
          "data": {
            "text/plain": [
              "(torch.Size([1, 28, 28]), 9)"
            ]
          },
          "metadata": {},
          "execution_count": 109
        }
      ]
    },
    {
      "cell_type": "code",
      "source": [
        "class_names=train_data.classes\n",
        "class_names"
      ],
      "metadata": {
        "colab": {
          "base_uri": "https://localhost:8080/"
        },
        "id": "Qbf6K7BpQG3d",
        "outputId": "ee24d330-9a01-48d8-c7c6-a41ec946cef7"
      },
      "execution_count": 110,
      "outputs": [
        {
          "output_type": "execute_result",
          "data": {
            "text/plain": [
              "['T-shirt/top',\n",
              " 'Trouser',\n",
              " 'Pullover',\n",
              " 'Dress',\n",
              " 'Coat',\n",
              " 'Sandal',\n",
              " 'Shirt',\n",
              " 'Sneaker',\n",
              " 'Bag',\n",
              " 'Ankle boot']"
            ]
          },
          "metadata": {},
          "execution_count": 110
        }
      ]
    },
    {
      "cell_type": "code",
      "source": [
        "class_name_idx=train_data.class_to_idx\n",
        "class_name_idx"
      ],
      "metadata": {
        "colab": {
          "base_uri": "https://localhost:8080/"
        },
        "id": "aLNaLRfHRtZj",
        "outputId": "c98523f0-714a-4408-89a9-4f9a41389801"
      },
      "execution_count": 111,
      "outputs": [
        {
          "output_type": "execute_result",
          "data": {
            "text/plain": [
              "{'T-shirt/top': 0,\n",
              " 'Trouser': 1,\n",
              " 'Pullover': 2,\n",
              " 'Dress': 3,\n",
              " 'Coat': 4,\n",
              " 'Sandal': 5,\n",
              " 'Shirt': 6,\n",
              " 'Sneaker': 7,\n",
              " 'Bag': 8,\n",
              " 'Ankle boot': 9}"
            ]
          },
          "metadata": {},
          "execution_count": 111
        }
      ]
    },
    {
      "cell_type": "markdown",
      "source": [
        "## visulizing our data"
      ],
      "metadata": {
        "id": "4_zc4GICQbS9"
      }
    },
    {
      "cell_type": "code",
      "source": [
        "plt.imshow(image.squeeze()) # matplotlib requires (h,w) or (h,w,c) but not (c,h,w)"
      ],
      "metadata": {
        "colab": {
          "base_uri": "https://localhost:8080/",
          "height": 447
        },
        "id": "6WCW88AFQ8FN",
        "outputId": "5cca541d-f4a0-4c18-f022-8d30c2ca443c"
      },
      "execution_count": 7,
      "outputs": [
        {
          "output_type": "execute_result",
          "data": {
            "text/plain": [
              "<matplotlib.image.AxesImage at 0x780d916905b0>"
            ]
          },
          "metadata": {},
          "execution_count": 7
        },
        {
          "output_type": "display_data",
          "data": {
            "text/plain": [
              "<Figure size 640x480 with 1 Axes>"
            ],
            "image/png": "[encoded data removed]"
          },
          "metadata": {}
        }
      ]
    },
    {
      "cell_type": "code",
      "source": [
        "plt.imshow(image.squeeze(),cmap=\"gray\")\n",
        "plt.title(class_names[label])"
      ],
      "metadata": {
        "colab": {
          "base_uri": "https://localhost:8080/",
          "height": 469
        },
        "id": "0Ef__8UrRX_t",
        "outputId": "7837307f-5143-432f-db70-c2ba6e3f7c1e"
      },
      "execution_count": 8,
      "outputs": [
        {
          "output_type": "execute_result",
          "data": {
            "text/plain": [
              "Text(0.5, 1.0, 'Ankle boot')"
            ]
          },
          "metadata": {},
          "execution_count": 8
        },
        {
          "output_type": "display_data",
          "data": {
            "text/plain": [
              "<Figure size 640x480 with 1 Axes>"
            ],
            "image/png": "[encoded data removed]"
          },
          "metadata": {}
        }
      ]
    },
    {
      "cell_type": "code",
      "source": [
        "# plot more images\n",
        "# torch.manual_seed(42)\n",
        "plt.figure(figsize=(9,9))\n",
        "rows,cols=4,4\n",
        "for i in range(1,rows*cols+1):\n",
        "  random_idx=torch.randint(0,len(train_data),size=[1]).item()\n",
        "  img,label=train_data[random_idx]\n",
        "  plt.subplot(rows,cols,i)\n",
        "  plt.imshow(img.squeeze(),cmap=\"gray\")\n",
        "  plt.title(class_names[label])\n",
        "  plt.axis(False)"
      ],
      "metadata": {
        "colab": {
          "base_uri": "https://localhost:8080/",
          "height": 752
        },
        "id": "ncqdK8xdRiIB",
        "outputId": "23eabe5a-d536-4fc5-eff5-b8b9f5f6cf74"
      },
      "execution_count": 9,
      "outputs": [
        {
          "output_type": "display_data",
          "data": {
            "text/plain": [
              "<Figure size 900x900 with 16 Axes>"
            ],
            "image/png": "[encoded data removed]"
          },
          "metadata": {}
        }
      ]
    },
    {
      "cell_type": "code",
      "source": [
        "train_data,test_data"
      ],
      "metadata": {
        "colab": {
          "base_uri": "https://localhost:8080/"
        },
        "id": "2myGA1ILT3_D",
        "outputId": "c3a17526-3719-4f3a-fd55-ace99d87fbf0"
      },
      "execution_count": 10,
      "outputs": [
        {
          "output_type": "execute_result",
          "data": {
            "text/plain": [
              "(Dataset FashionMNIST\n",
              "     Number of datapoints: 60000\n",
              "     Root location: data\n",
              "     Split: Train\n",
              "     StandardTransform\n",
              " Transform: ToTensor(),\n",
              " Dataset FashionMNIST\n",
              "     Number of datapoints: 10000\n",
              "     Root location: data\n",
              "     Split: Test\n",
              "     StandardTransform\n",
              " Transform: ToTensor())"
            ]
          },
          "metadata": {},
          "execution_count": 10
        }
      ]
    },
    {
      "cell_type": "markdown",
      "source": [
        "##prepare dataloader\n",
        "\n",
        "right now our dataset is in the form of pytorch dataset\n",
        "\n",
        "dataloader turns our dataset into a pyton itterable\n",
        "\n",
        "more specifically, we want to turn our data into mini batches"
      ],
      "metadata": {
        "id": "tiilGFS2ARwC"
      }
    },
    {
      "cell_type": "code",
      "source": [
        "train_dataloader=DataLoader(dataset=train_data,batch_size=32,shuffle=True)\n",
        "\n",
        "test_dataloader=DataLoader(dataset=test_data,batch_size=32,shuffle=False)\n",
        "\n",
        "train_dataloader,test_dataloader"
      ],
      "metadata": {
        "colab": {
          "base_uri": "https://localhost:8080/"
        },
        "id": "fWK7lRkgA9-u",
        "outputId": "da605fbb-4a6c-489b-f5c3-ef76186bf382"
      },
      "execution_count": 112,
      "outputs": [
        {
          "output_type": "execute_result",
          "data": {
            "text/plain": [
              "(<torch.utils.data.dataloader.DataLoader at 0x780d85d174f0>,\n",
              " <torch.utils.data.dataloader.DataLoader at 0x780d85d16fe0>)"
            ]
          },
          "metadata": {},
          "execution_count": 112
        }
      ]
    },
    {
      "cell_type": "code",
      "source": [
        "len(train_dataloader) #thus 1875 batches of 32 training samples"
      ],
      "metadata": {
        "colab": {
          "base_uri": "https://localhost:8080/"
        },
        "id": "Z1xDoOsRCH01",
        "outputId": "c30e47cc-efd0-4872-84a6-692ef3d478e6"
      },
      "execution_count": 113,
      "outputs": [
        {
          "output_type": "execute_result",
          "data": {
            "text/plain": [
              "1875"
            ]
          },
          "metadata": {},
          "execution_count": 113
        }
      ]
    },
    {
      "cell_type": "code",
      "source": [
        "len(test_dataloader) # thus 313 batches of approx 32 testing samples"
      ],
      "metadata": {
        "colab": {
          "base_uri": "https://localhost:8080/"
        },
        "id": "vf9yha8jCP8h",
        "outputId": "869d8269-27ed-4d87-9116-501b4d795f20"
      },
      "execution_count": 114,
      "outputs": [
        {
          "output_type": "execute_result",
          "data": {
            "text/plain": [
              "313"
            ]
          },
          "metadata": {},
          "execution_count": 114
        }
      ]
    },
    {
      "cell_type": "code",
      "source": [
        "#lets check whats inside the train data loader\n",
        "\n",
        "train_features_batch,train_labels_batch=next(iter(train_dataloader))\n",
        "train_features_batch.shape,train_labels_batch.shape"
      ],
      "metadata": {
        "colab": {
          "base_uri": "https://localhost:8080/"
        },
        "id": "TPsAncSNCn7O",
        "outputId": "1ec691a1-0358-46d3-ae05-351f8760dd65"
      },
      "execution_count": 115,
      "outputs": [
        {
          "output_type": "execute_result",
          "data": {
            "text/plain": [
              "(torch.Size([32, 1, 28, 28]), torch.Size([32]))"
            ]
          },
          "metadata": {},
          "execution_count": 115
        }
      ]
    },
    {
      "cell_type": "code",
      "source": [
        "#show a sample\n",
        "# torch.manual_seed(42)\n",
        "random_idx=torch.randint(0,len(train_features_batch),size=[1]).item()\n",
        "img,label=train_features_batch[random_idx],train_labels_batch[random_idx]\n",
        "plt.imshow(img.squeeze(),cmap=\"gray\")\n",
        "plt.title(class_names[label])\n",
        "print(img.shape)\n"
      ],
      "metadata": {
        "colab": {
          "base_uri": "https://localhost:8080/",
          "height": 469
        },
        "id": "73d1WYi5CnzG",
        "outputId": "15446817-3e54-48a2-d97e-da48cfcadf70"
      },
      "execution_count": 116,
      "outputs": [
        {
          "output_type": "stream",
          "name": "stdout",
          "text": [
            "torch.Size([1, 28, 28])\n"
          ]
        },
        {
          "output_type": "display_data",
          "data": {
            "text/plain": [
              "<Figure size 640x480 with 1 Axes>"
            ],
            "image/png": "[encoded data removed]"
          },
          "metadata": {}
        }
      ]
    },
    {
      "cell_type": "code",
      "source": [
        "#building a baseline model\n",
        "\n",
        "class FashionMNISTmodel0(nn.Module):\n",
        "  def __init__(self,input_shape:int,hidden_units:int,output_shape:int):\n",
        "    super().__init__()\n",
        "    self.layer_stack=nn.Sequential(\n",
        "      nn.Flatten(),\n",
        "      nn.Linear(in_features=input_shape,out_features=hidden_units),\n",
        "      nn.Linear(in_features=hidden_units,out_features=output_shape)\n",
        "    )\n",
        "\n",
        "  def forward(self,x):\n",
        "    return self.layer_stack(x)\n",
        "\n",
        "torch.manual_seed(42)\n",
        "model=FashionMNISTmodel0(input_shape=28*28,hidden_units=10,output_shape=len(class_names))\n",
        "model\n"
      ],
      "metadata": {
        "colab": {
          "base_uri": "https://localhost:8080/"
        },
        "id": "OuzmIEDHCnG3",
        "outputId": "b9d8a142-5236-4d49-8215-50ac7642da80"
      },
      "execution_count": 131,
      "outputs": [
        {
          "output_type": "execute_result",
          "data": {
            "text/plain": [
              "FashionMNISTmodel0(\n",
              "  (layer_stack): Sequential(\n",
              "    (0): Flatten(start_dim=1, end_dim=-1)\n",
              "    (1): Linear(in_features=784, out_features=10, bias=True)\n",
              "    (2): Linear(in_features=10, out_features=10, bias=True)\n",
              "  )\n",
              ")"
            ]
          },
          "metadata": {},
          "execution_count": 131
        }
      ]
    },
    {
      "cell_type": "code",
      "source": [
        "model.state_dict()"
      ],
      "metadata": {
        "colab": {
          "base_uri": "https://localhost:8080/"
        },
        "id": "Jfb3Xb9CFINQ",
        "outputId": "d1017bd2-b2a7-4171-c698-d03592332611"
      },
      "execution_count": 118,
      "outputs": [
        {
          "output_type": "execute_result",
          "data": {
            "text/plain": [
              "OrderedDict([('layer_stack.1.weight',\n",
              "              tensor([[ 0.0351,  0.0094,  0.0126,  ...,  0.0293, -0.0189,  0.0286],\n",
              "                      [ 0.0081,  0.0198,  0.0123,  ..., -0.0102, -0.0030,  0.0247],\n",
              "                      [ 0.0053, -0.0248,  0.0303,  ...,  0.0021,  0.0170, -0.0093],\n",
              "                      ...,\n",
              "                      [-0.0034,  0.0076,  0.0027,  ..., -0.0330,  0.0263, -0.0211],\n",
              "                      [ 0.0034, -0.0304, -0.0270,  ..., -0.0024,  0.0133, -0.0047],\n",
              "                      [-0.0286,  0.0044,  0.0083,  ..., -0.0038, -0.0135,  0.0147]])),\n",
              "             ('layer_stack.1.bias',\n",
              "              tensor([ 0.0004,  0.0070,  0.0105,  0.0086, -0.0350,  0.0072,  0.0294,  0.0121,\n",
              "                       0.0256, -0.0193])),\n",
              "             ('layer_stack.2.weight',\n",
              "              tensor([[-0.0803, -0.2885, -0.2888, -0.2384,  0.1616, -0.1860,  0.1061,  0.2190,\n",
              "                        0.1129, -0.1325],\n",
              "                      [ 0.2020,  0.1160,  0.0717, -0.0793,  0.2512,  0.1528, -0.0556,  0.1458,\n",
              "                       -0.2107, -0.0274],\n",
              "                      [-0.2625, -0.2822,  0.2576,  0.1681, -0.1073, -0.1762, -0.1213, -0.0752,\n",
              "                       -0.0538,  0.2708],\n",
              "                      [ 0.3027,  0.1651, -0.1769, -0.1115,  0.0394, -0.1883,  0.2829, -0.1874,\n",
              "                        0.2927, -0.0014],\n",
              "                      [ 0.2865,  0.2067,  0.0284,  0.3104,  0.0276,  0.1214, -0.0816, -0.2785,\n",
              "                       -0.1939, -0.2545],\n",
              "                      [ 0.2166,  0.1406,  0.0891,  0.2932, -0.2232,  0.0890,  0.0136, -0.2768,\n",
              "                       -0.3055,  0.3071],\n",
              "                      [ 0.2685,  0.0575, -0.2030,  0.0441,  0.2255, -0.0688,  0.0044, -0.1555,\n",
              "                        0.2390, -0.1927],\n",
              "                      [-0.1777, -0.0812, -0.0100,  0.0797,  0.2461,  0.1937,  0.0456,  0.0829,\n",
              "                        0.2681, -0.0929],\n",
              "                      [-0.1505,  0.2422,  0.2743, -0.0130, -0.0124,  0.2400, -0.0590,  0.3122,\n",
              "                       -0.2317,  0.0777],\n",
              "                      [ 0.2395, -0.3045, -0.0836,  0.2695,  0.2289, -0.2110,  0.2530,  0.2710,\n",
              "                        0.1243, -0.0801]])),\n",
              "             ('layer_stack.2.bias',\n",
              "              tensor([-0.1817, -0.0653,  0.0996,  0.0670,  0.0435, -0.2241,  0.2564,  0.0373,\n",
              "                       0.0653, -0.2630]))])"
            ]
          },
          "metadata": {},
          "execution_count": 118
        }
      ]
    },
    {
      "cell_type": "code",
      "source": [
        "torch.manual_seed(42)\n",
        "dummy_x=torch.rand([1,1,28,28])\n",
        "model(dummy_x)"
      ],
      "metadata": {
        "colab": {
          "base_uri": "https://localhost:8080/"
        },
        "id": "1RYP8iQJH2Q0",
        "outputId": "f80836bb-1c96-46f5-ce88-0d242748708a"
      },
      "execution_count": 86,
      "outputs": [
        {
          "output_type": "execute_result",
          "data": {
            "text/plain": [
              "tensor([[-0.1871,  0.2269,  0.7345,  0.2136, -0.0770, -0.1991, -0.1782,  0.2885,\n",
              "         -0.3024,  0.2575]], grad_fn=<AddmmBackward0>)"
            ]
          },
          "metadata": {},
          "execution_count": 86
        }
      ]
    },
    {
      "cell_type": "code",
      "source": [
        "loss_fn=nn.CrossEntropyLoss()\n",
        "optimizer=torch.optim.SGD(params=model.parameters(),lr=0.1)"
      ],
      "metadata": {
        "id": "DYiXmWsrLBLN"
      },
      "execution_count": 132,
      "outputs": []
    },
    {
      "cell_type": "code",
      "source": [
        "torch.manual_seed(42)\n",
        "img,label=next(iter(train_dataloader))\n",
        "y_pred=model(img)\n",
        "y_pred.shape,label.shape\n",
        "y_loss=loss_fn(y_pred,label)\n",
        "y_loss"
      ],
      "metadata": {
        "colab": {
          "base_uri": "https://localhost:8080/"
        },
        "id": "gvGinG1zLCwn",
        "outputId": "299fea32-edab-4cee-e960-1fe5c9ad887a"
      },
      "execution_count": 91,
      "outputs": [
        {
          "output_type": "execute_result",
          "data": {
            "text/plain": [
              "tensor(2.3010, grad_fn=<NllLossBackward0>)"
            ]
          },
          "metadata": {},
          "execution_count": 91
        }
      ]
    },
    {
      "cell_type": "code",
      "source": [],
      "metadata": {
        "id": "FYM0BN2DL6b8"
      },
      "execution_count": null,
      "outputs": []
    },
    {
      "cell_type": "code",
      "source": [
        "# Calculate accuracy (a classification metric)\n",
        "def accuracy_fn(y_true, y_pred):\n",
        "    correct = torch.eq(y_true, y_pred).sum().item() # torch.eq() calculates where two tensors are equal\n",
        "    acc = (correct / len(y_pred)) * 100\n",
        "    return acc"
      ],
      "metadata": {
        "id": "JywQlHHTO12t"
      },
      "execution_count": 133,
      "outputs": []
    },
    {
      "cell_type": "code",
      "source": [
        "from os import P_PID\n",
        "import requests\n",
        "import pathlib\n",
        "from pathlib import Path\n",
        "\n",
        "# download helper functions from learn pytorch repo\n",
        "\n",
        "if Path(\"helper_functions.py\").is_file():\n",
        "  print(\"helper_functions.py already exists\")\n",
        "else:\n",
        "  print(\"downloading helper_functions.py\")\n",
        "  request=requests.get(\"https://raw.githubusercontent.com/mrdbourke/pytorch-deep-learning/main/helper_functions.py\")\n",
        "  with open(\"helper_functions.py\",\"wb\") as f:\n",
        "    f.write(request.content)"
      ],
      "metadata": {
        "colab": {
          "base_uri": "https://localhost:8080/"
        },
        "id": "wsUoB-dTO-sO",
        "outputId": "239053c2-2799-491a-cb4d-36264d1763f2"
      },
      "execution_count": 21,
      "outputs": [
        {
          "output_type": "stream",
          "name": "stdout",
          "text": [
            "downloading helper_functions.py\n"
          ]
        }
      ]
    },
    {
      "cell_type": "code",
      "source": [
        "from helper_functions import accuracy_fn"
      ],
      "metadata": {
        "id": "klAGLqU9QFNa"
      },
      "execution_count": 22,
      "outputs": []
    },
    {
      "cell_type": "markdown",
      "source": [
        "## creating a function to time our experiments\n",
        "\n",
        "ML is very experimental\n",
        "\n",
        "the 2 main things we often track is :\n",
        "\n",
        "1.the models performance (loss and accuracy)\n",
        "\n",
        "2.how fast it runs\n",
        "\n",
        "note: usually model peromance and time taken by model our inversely related\n"
      ],
      "metadata": {
        "id": "WZNHiGCFQUEj"
      }
    },
    {
      "cell_type": "code",
      "source": [
        "from timeit import default_timer as Timer\n",
        "\n",
        "def train_time(start:float,end:float):\n",
        "  # \"\"\" prints the difference btw the strt and end time\"\"\"\n",
        "\n",
        "  total_time=end-start\n",
        "  print(f\" Train time is: {total_time:.3f} seconds\")\n",
        "  return total_time\n"
      ],
      "metadata": {
        "id": "-wSAEoorScJJ"
      },
      "execution_count": 122,
      "outputs": []
    },
    {
      "cell_type": "code",
      "source": [
        "start_time=Timer()\n",
        "\n",
        "end_time=Timer()\n",
        "\n",
        "train_time(start_time,end_time)\n"
      ],
      "metadata": {
        "colab": {
          "base_uri": "https://localhost:8080/"
        },
        "id": "FI4sVES0UV97",
        "outputId": "3d3aad62-7c6d-4544-ff41-0b2c79eb309a"
      },
      "execution_count": 123,
      "outputs": [
        {
          "output_type": "stream",
          "name": "stdout",
          "text": [
            " Train time is: 0.000 seconds\n"
          ]
        },
        {
          "output_type": "execute_result",
          "data": {
            "text/plain": [
              "7.472699962818297e-05"
            ]
          },
          "metadata": {},
          "execution_count": 123
        }
      ]
    },
    {
      "cell_type": "markdown",
      "source": [
        "# creating training loop and training a model on batches of data"
      ],
      "metadata": {
        "id": "nelEU9m2U7My"
      }
    },
    {
      "cell_type": "code",
      "source": [
        "import tqdm # a progress bar for epochs\n",
        "\n",
        "from tqdm.auto import tqdm\n",
        "\n",
        "torch.manual_seed(42)\n",
        "train_time_start=Timer()\n",
        "epochs=3\n",
        "\n",
        "for epoch in tqdm(range(epochs)):\n",
        "  print(f\"Epoch:{epoch}\\n------\")\n",
        "  train_loss,train_acc=0,0\n",
        "  # add a loop to loop through our training batches\n",
        "  for batch,(x,y) in enumerate(train_dataloader):\n",
        "    model.train()\n",
        "\n",
        "    # foward prop\n",
        "    y_pred=model(x) # 1 batch of data is used on the model and we get preds of all 32 images\n",
        "\n",
        "    # calculate loss\n",
        "    loss=loss_fn(y_pred,y)\n",
        "    train_loss+=loss\n",
        "    train_acc+=accuracy_fn(y,y_pred.argmax(dim=1))\n",
        "\n",
        "\n",
        "    optimizer.zero_grad()\n",
        "\n",
        "    loss.backward()\n",
        "\n",
        "    optimizer.step()\n",
        "\n",
        "    # print out whats happening\n",
        "    if batch%400==0:\n",
        "      print(f\"looked at {batch*len(x)}/{len(train_dataloader.dataset)} samples\")\n",
        "\n",
        "  train_loss/=len(train_dataloader)\n",
        "  train_acc/=len(train_dataloader)\n",
        "\n",
        "\n",
        "  ## testing\n",
        "  test_loss,test_acc=0,0\n",
        "  model.eval()\n",
        "  with torch.inference_mode():\n",
        "    for x_test,y_test in test_dataloader:\n",
        "      test_pred=model(x_test)\n",
        "\n",
        "      test_loss+=loss_fn(test_pred,y_test)\n",
        "      test_acc+=accuracy_fn(y_true=y_test,y_pred=test_pred.argmax(dim=1))\n",
        "\n",
        "    test_loss/=len(test_dataloader)\n",
        "    test_acc/=len(test_dataloader)\n",
        "  print(f\"\\n train loss:{train_loss:.4f} | train acc:{train_acc:.4f} | test loss:{test_loss:.4f} | test acc:{test_acc:.4f} \")\n",
        "\n",
        "#calculate train time\n",
        "\n",
        "train_time_end=Timer()\n",
        "\n",
        "train_time(start=train_time_start,end=train_time_end)\n",
        "\n",
        "\n",
        "\n",
        "\n",
        "\n",
        "\n",
        "\n",
        "\n",
        "\n",
        "\n",
        "\n",
        "\n",
        "\n",
        "\n",
        "\n",
        "\n",
        "\n",
        "\n"
      ],
      "metadata": {
        "colab": {
          "base_uri": "https://localhost:8080/",
          "height": 552,
          "referenced_widgets": [
            "4d5ed79d26d346b3b9bf8c1e980924b2",
            "4b844bf3b8e74c9bacce8108c96c76a1",
            "8fb2b814e2fd491f8d0a2e967953ed4a",
            "aebd325fd8ac421799e133155408c5d7",
            "e52b1bf8ac99447589b95b3dcfeace71",
            "b77d1395fdf843568063e9b29d4cbcb4",
            "cb1a075fc1f64f8dad8afa4369c074f7",
            "97d73b95777a4328b9e9ab5de24d6fd9",
            "202c5fb33d204a6199d4d997c065f6cb",
            "94ae834a55334b24ba6cc5514f0c8770",
            "3d728f91528e4e66a560e7cabe70d73b"
          ]
        },
        "id": "5lRTaMwuVj1d",
        "outputId": "c8b230e1-45af-4ee9-eeb9-a62d55845022"
      },
      "execution_count": 134,
      "outputs": [
        {
          "output_type": "display_data",
          "data": {
            "text/plain": [
              "  0%|          | 0/3 [00:00<?, ?it/s]"
            ],
            "application/vnd.jupyter.widget-view+json": {
              "version_major": 2,
              "version_minor": 0,
              "model_id": "4d5ed79d26d346b3b9bf8c1e980924b2"
            }
          },
          "metadata": {}
        },
        {
          "output_type": "stream",
          "name": "stdout",
          "text": [
            "Epoch:0\n",
            "------\n",
            "looked at 0/60000 samples\n",
            "looked at 12800/60000 samples\n",
            "looked at 25600/60000 samples\n",
            "looked at 38400/60000 samples\n",
            "looked at 51200/60000 samples\n",
            "\n",
            " train loss:0.5904 | train acc:79.1717 | test loss:0.5095 | test acc:82.0387 \n",
            "Epoch:1\n",
            "------\n",
            "looked at 0/60000 samples\n",
            "looked at 12800/60000 samples\n",
            "looked at 25600/60000 samples\n",
            "looked at 38400/60000 samples\n",
            "looked at 51200/60000 samples\n",
            "\n",
            " train loss:0.4763 | train acc:83.3200 | test loss:0.4799 | test acc:83.1969 \n",
            "Epoch:2\n",
            "------\n",
            "looked at 0/60000 samples\n",
            "looked at 12800/60000 samples\n",
            "looked at 25600/60000 samples\n",
            "looked at 38400/60000 samples\n",
            "looked at 51200/60000 samples\n",
            "\n",
            " train loss:0.4550 | train acc:84.0517 | test loss:0.4766 | test acc:83.4265 \n",
            " Train time is: 36.485 seconds\n"
          ]
        },
        {
          "output_type": "execute_result",
          "data": {
            "text/plain": [
              "36.48463489200003"
            ]
          },
          "metadata": {},
          "execution_count": 134
        }
      ]
    },
    {
      "cell_type": "code",
      "source": [
        "# creating a function for predicting and eval our model not for training but only for test dataset\n",
        "torch.manual_seed(42)\n",
        "def eval_model(model:torch.nn.Module,data_loader:torch.utils.data.DataLoader,loss_fn:torch.nn.Module,accuracy_fn):\n",
        "  loss,acc=0,0\n",
        "  model.eval()\n",
        "  with torch.inference_mode():\n",
        "    for x,y in data_loader:\n",
        "\n",
        "      y_pred=model(x)\n",
        "\n",
        "      loss+=loss_fn(y_pred,y)\n",
        "      acc+=accuracy_fn(y,y_pred.argmax(dim=1))\n",
        "\n",
        "    loss/=len(data_loader)\n",
        "    acc/=len(data_loader)\n",
        "\n",
        "  return {\"model_name\": model.__class__.__name__,\n",
        "          \"model_loss\":loss.item(),\n",
        "          \"model_acc\":acc }\n",
        "\n",
        "model_results=eval_model(model,test_dataloader,loss_fn,accuracy_fn)\n",
        "model_results\n",
        "\n"
      ],
      "metadata": {
        "colab": {
          "base_uri": "https://localhost:8080/"
        },
        "id": "mPracx0ZhR_l",
        "outputId": "8f6b8689-fd82-4055-ac49-455135358468"
      },
      "execution_count": 135,
      "outputs": [
        {
          "output_type": "execute_result",
          "data": {
            "text/plain": [
              "{'model_name': 'FashionMNISTmodel0',\n",
              " 'model_loss': 0.47663894295692444,\n",
              " 'model_acc': 83.42651757188499}"
            ]
          },
          "metadata": {},
          "execution_count": 135
        }
      ]
    },
    {
      "cell_type": "code",
      "source": [],
      "metadata": {
        "id": "KNQgp-1Dk_PZ"
      },
      "execution_count": null,
      "outputs": []
    }
  ],
  "metadata": {
    "colab": {
      "provenance": [],
      "include_colab_link": true
    },
    "kernelspec": {
      "display_name": "Python 3",
      "name": "python3"
    },
    "language_info": {
      "name": "python"
    },
    "widgets": {
      "application/vnd.jupyter.widget-state+json": {
        "4d5ed79d26d346b3b9bf8c1e980924b2": {
          "model_module": "@jupyter-widgets/controls",
          "model_name": "HBoxModel",
          "model_module_version": "1.5.0",
          "state": {
            "_dom_classes": [],
            "_model_module": "@jupyter-widgets/controls",
            "_model_module_version": "1.5.0",
            "_model_name": "HBoxModel",
            "_view_count": null,
            "_view_module": "@jupyter-widgets/controls",
            "_view_module_version": "1.5.0",
            "_view_name": "HBoxView",
            "box_style": "",
            "children": [
              "IPY_MODEL_4b844bf3b8e74c9bacce8108c96c76a1",
              "IPY_MODEL_8fb2b814e2fd491f8d0a2e967953ed4a",
              "IPY_MODEL_aebd325fd8ac421799e133155408c5d7"
            ],
            "layout": "IPY_MODEL_e52b1bf8ac99447589b95b3dcfeace71"
          }
        },
        "4b844bf3b8e74c9bacce8108c96c76a1": {
          "model_module": "@jupyter-widgets/controls",
          "model_name": "HTMLModel",
          "model_module_version": "1.5.0",
          "state": {
            "_dom_classes": [],
            "_model_module": "@jupyter-widgets/controls",
            "_model_module_version": "1.5.0",
            "_model_name": "HTMLModel",
            "_view_count": null,
            "_view_module": "@jupyter-widgets/controls",
            "_view_module_version": "1.5.0",
            "_view_name": "HTMLView",
            "description": "",
            "description_tooltip": null,
            "layout": "IPY_MODEL_b77d1395fdf843568063e9b29d4cbcb4",
            "placeholder": "​",
            "style": "IPY_MODEL_cb1a075fc1f64f8dad8afa4369c074f7",
            "value": "100%"
          }
        },
        "8fb2b814e2fd491f8d0a2e967953ed4a": {
          "model_module": "@jupyter-widgets/controls",
          "model_name": "FloatProgressModel",
          "model_module_version": "1.5.0",
          "state": {
            "_dom_classes": [],
            "_model_module": "@jupyter-widgets/controls",
            "_model_module_version": "1.5.0",
            "_model_name": "FloatProgressModel",
            "_view_count": null,
            "_view_module": "@jupyter-widgets/controls",
            "_view_module_version": "1.5.0",
            "_view_name": "ProgressView",
            "bar_style": "success",
            "description": "",
            "description_tooltip": null,
            "layout": "IPY_MODEL_97d73b95777a4328b9e9ab5de24d6fd9",
            "max": 3,
            "min": 0,
            "orientation": "horizontal",
            "style": "IPY_MODEL_202c5fb33d204a6199d4d997c065f6cb",
            "value": 3
          }
        },
        "aebd325fd8ac421799e133155408c5d7": {
          "model_module": "@jupyter-widgets/controls",
          "model_name": "HTMLModel",
          "model_module_version": "1.5.0",
          "state": {
            "_dom_classes": [],
            "_model_module": "@jupyter-widgets/controls",
            "_model_module_version": "1.5.0",
            "_model_name": "HTMLModel",
            "_view_count": null,
            "_view_module": "@jupyter-widgets/controls",
            "_view_module_version": "1.5.0",
            "_view_name": "HTMLView",
            "description": "",
            "description_tooltip": null,
            "layout": "IPY_MODEL_94ae834a55334b24ba6cc5514f0c8770",
            "placeholder": "​",
            "style": "IPY_MODEL_3d728f91528e4e66a560e7cabe70d73b",
            "value": " 3/3 [00:36&lt;00:00, 12.13s/it]"
          }
        },
        "e52b1bf8ac99447589b95b3dcfeace71": {
          "model_module": "@jupyter-widgets/base",
          "model_name": "LayoutModel",
          "model_module_version": "1.2.0",
          "state": {
            "_model_module": "@jupyter-widgets/base",
            "_model_module_version": "1.2.0",
            "_model_name": "LayoutModel",
            "_view_count": null,
            "_view_module": "@jupyter-widgets/base",
            "_view_module_version": "1.2.0",
            "_view_name": "LayoutView",
            "align_content": null,
            "align_items": null,
            "align_self": null,
            "border": null,
            "bottom": null,
            "display": null,
            "flex": null,
            "flex_flow": null,
            "grid_area": null,
            "grid_auto_columns": null,
            "grid_auto_flow": null,
            "grid_auto_rows": null,
            "grid_column": null,
            "grid_gap": null,
            "grid_row": null,
            "grid_template_areas": null,
            "grid_template_columns": null,
            "grid_template_rows": null,
            "height": null,
            "justify_content": null,
            "justify_items": null,
            "left": null,
            "margin": null,
            "max_height": null,
            "max_width": null,
            "min_height": null,
            "min_width": null,
            "object_fit": null,
            "object_position": null,
            "order": null,
            "overflow": null,
            "overflow_x": null,
            "overflow_y": null,
            "padding": null,
            "right": null,
            "top": null,
            "visibility": null,
            "width": null
          }
        },
        "b77d1395fdf843568063e9b29d4cbcb4": {
          "model_module": "@jupyter-widgets/base",
          "model_name": "LayoutModel",
          "model_module_version": "1.2.0",
          "state": {
            "_model_module": "@jupyter-widgets/base",
            "_model_module_version": "1.2.0",
            "_model_name": "LayoutModel",
            "_view_count": null,
            "_view_module": "@jupyter-widgets/base",
            "_view_module_version": "1.2.0",
            "_view_name": "LayoutView",
            "align_content": null,
            "align_items": null,
            "align_self": null,
            "border": null,
            "bottom": null,
            "display": null,
            "flex": null,
            "flex_flow": null,
            "grid_area": null,
            "grid_auto_columns": null,
            "grid_auto_flow": null,
            "grid_auto_rows": null,
            "grid_column": null,
            "grid_gap": null,
            "grid_row": null,
            "grid_template_areas": null,
            "grid_template_columns": null,
            "grid_template_rows": null,
            "height": null,
            "justify_content": null,
            "justify_items": null,
            "left": null,
            "margin": null,
            "max_height": null,
            "max_width": null,
            "min_height": null,
            "min_width": null,
            "object_fit": null,
            "object_position": null,
            "order": null,
            "overflow": null,
            "overflow_x": null,
            "overflow_y": null,
            "padding": null,
            "right": null,
            "top": null,
            "visibility": null,
            "width": null
          }
        },
        "cb1a075fc1f64f8dad8afa4369c074f7": {
          "model_module": "@jupyter-widgets/controls",
          "model_name": "DescriptionStyleModel",
          "model_module_version": "1.5.0",
          "state": {
            "_model_module": "@jupyter-widgets/controls",
            "_model_module_version": "1.5.0",
            "_model_name": "DescriptionStyleModel",
            "_view_count": null,
            "_view_module": "@jupyter-widgets/base",
            "_view_module_version": "1.2.0",
            "_view_name": "StyleView",
            "description_width": ""
          }
        },
        "97d73b95777a4328b9e9ab5de24d6fd9": {
          "model_module": "@jupyter-widgets/base",
          "model_name": "LayoutModel",
          "model_module_version": "1.2.0",
          "state": {
            "_model_module": "@jupyter-widgets/base",
            "_model_module_version": "1.2.0",
            "_model_name": "LayoutModel",
            "_view_count": null,
            "_view_module": "@jupyter-widgets/base",
            "_view_module_version": "1.2.0",
            "_view_name": "LayoutView",
            "align_content": null,
            "align_items": null,
            "align_self": null,
            "border": null,
            "bottom": null,
            "display": null,
            "flex": null,
            "flex_flow": null,
            "grid_area": null,
            "grid_auto_columns": null,
            "grid_auto_flow": null,
            "grid_auto_rows": null,
            "grid_column": null,
            "grid_gap": null,
            "grid_row": null,
            "grid_template_areas": null,
            "grid_template_columns": null,
            "grid_template_rows": null,
            "height": null,
            "justify_content": null,
            "justify_items": null,
            "left": null,
            "margin": null,
            "max_height": null,
            "max_width": null,
            "min_height": null,
            "min_width": null,
            "object_fit": null,
            "object_position": null,
            "order": null,
            "overflow": null,
            "overflow_x": null,
            "overflow_y": null,
            "padding": null,
            "right": null,
            "top": null,
            "visibility": null,
            "width": null
          }
        },
        "202c5fb33d204a6199d4d997c065f6cb": {
          "model_module": "@jupyter-widgets/controls",
          "model_name": "ProgressStyleModel",
          "model_module_version": "1.5.0",
          "state": {
            "_model_module": "@jupyter-widgets/controls",
            "_model_module_version": "1.5.0",
            "_model_name": "ProgressStyleModel",
            "_view_count": null,
            "_view_module": "@jupyter-widgets/base",
            "_view_module_version": "1.2.0",
            "_view_name": "StyleView",
            "bar_color": null,
            "description_width": ""
          }
        },
        "94ae834a55334b24ba6cc5514f0c8770": {
          "model_module": "@jupyter-widgets/base",
          "model_name": "LayoutModel",
          "model_module_version": "1.2.0",
          "state": {
            "_model_module": "@jupyter-widgets/base",
            "_model_module_version": "1.2.0",
            "_model_name": "LayoutModel",
            "_view_count": null,
            "_view_module": "@jupyter-widgets/base",
            "_view_module_version": "1.2.0",
            "_view_name": "LayoutView",
            "align_content": null,
            "align_items": null,
            "align_self": null,
            "border": null,
            "bottom": null,
            "display": null,
            "flex": null,
            "flex_flow": null,
            "grid_area": null,
            "grid_auto_columns": null,
            "grid_auto_flow": null,
            "grid_auto_rows": null,
            "grid_column": null,
            "grid_gap": null,
            "grid_row": null,
            "grid_template_areas": null,
            "grid_template_columns": null,
            "grid_template_rows": null,
            "height": null,
            "justify_content": null,
            "justify_items": null,
            "left": null,
            "margin": null,
            "max_height": null,
            "max_width": null,
            "min_height": null,
            "min_width": null,
            "object_fit": null,
            "object_position": null,
            "order": null,
            "overflow": null,
            "overflow_x": null,
            "overflow_y": null,
            "padding": null,
            "right": null,
            "top": null,
            "visibility": null,
            "width": null
          }
        },
        "3d728f91528e4e66a560e7cabe70d73b": {
          "model_module": "@jupyter-widgets/controls",
          "model_name": "DescriptionStyleModel",
          "model_module_version": "1.5.0",
          "state": {
            "_model_module": "@jupyter-widgets/controls",
            "_model_module_version": "1.5.0",
            "_model_name": "DescriptionStyleModel",
            "_view_count": null,
            "_view_module": "@jupyter-widgets/base",
            "_view_module_version": "1.2.0",
            "_view_name": "StyleView",
            "description_width": ""
          }
        }
      }
    }
  },
  "nbformat": 4,
  "nbformat_minor": 0
}