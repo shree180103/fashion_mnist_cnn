{
  "cells": [
    {
      "cell_type": "markdown",
      "metadata": {
        "id": "view-in-github",
        "colab_type": "text"
      },
      "source": [
        "<a href=\"https://colab.research.google.com/github/shree180103/fashion_mnist_cnn/blob/main/fashion_mnist_cnn.ipynb\" target=\"_parent\"><img src=\"https://colab.research.google.com/assets/colab-badge.svg\" alt=\"Open In Colab\"/></a>"
      ]
    },
    {
      "cell_type": "code",
      "execution_count": 2,
      "metadata": {
        "id": "TiQJdF6KJpSV"
      },
      "outputs": [],
      "source": [
        "import torch\n",
        "from torch import nn\n",
        "import torchvision\n",
        "from torchvision import transforms # gives functions for manipuilating  images\n",
        "from torchvision.transforms import ToTensor # used converting img or numpy to tensor\n",
        "from torch.utils.data import DataLoader # used to create pyton iterables over datset\n",
        "\n",
        "import numpy as np\n",
        "import pandas as pd\n",
        "import matplotlib.pyplot as plt\n",
        "\n",
        "\n"
      ]
    },
    {
      "cell_type": "markdown",
      "source": [
        "## getting our data"
      ],
      "metadata": {
        "id": "lhKm4VEnVlRb"
      }
    },
    {
      "cell_type": "code",
      "source": [
        "# setup training data\n",
        "from torchvision import datasets\n",
        "\n",
        "train_data=datasets.FashionMNIST(root=\"data\",# where to download data to\n",
        "                                 train=True,# do we want training data\n",
        "                                 download=True,\n",
        "                                 transform=torchvision.transforms.ToTensor(),\n",
        "                                 target_transform=None # do we want to transform our target\n",
        "                                 )\n",
        "test_data=datasets.FashionMNIST(root=\"data\",# where to download data to\n",
        "                                 train=False,# do we want training data, if false then gives test data\n",
        "                                 download=True,\n",
        "                                 transform=torchvision.transforms.ToTensor(),\n",
        "                                 target_transform=None # do we want to transform our target\n",
        "                                 )\n"
      ],
      "metadata": {
        "colab": {
          "base_uri": "https://localhost:8080/"
        },
        "id": "DY3vnwBcGrfD",
        "outputId": "603d79a0-b509-4eda-d0c7-f24958f346bb"
      },
      "execution_count": 3,
      "outputs": [
        {
          "output_type": "stream",
          "name": "stdout",
          "text": [
            "Downloading http://fashion-mnist.s3-website.eu-central-1.amazonaws.com/train-images-idx3-ubyte.gz\n",
            "Downloading http://fashion-mnist.s3-website.eu-central-1.amazonaws.com/train-images-idx3-ubyte.gz to data/FashionMNIST/raw/train-images-idx3-ubyte.gz\n"
          ]
        },
        {
          "output_type": "stream",
          "name": "stderr",
          "text": [
            "100%|██████████| 26421880/26421880 [00:01<00:00, 16333782.27it/s]\n"
          ]
        },
        {
          "output_type": "stream",
          "name": "stdout",
          "text": [
            "Extracting data/FashionMNIST/raw/train-images-idx3-ubyte.gz to data/FashionMNIST/raw\n",
            "\n",
            "Downloading http://fashion-mnist.s3-website.eu-central-1.amazonaws.com/train-labels-idx1-ubyte.gz\n",
            "Downloading http://fashion-mnist.s3-website.eu-central-1.amazonaws.com/train-labels-idx1-ubyte.gz to data/FashionMNIST/raw/train-labels-idx1-ubyte.gz\n"
          ]
        },
        {
          "output_type": "stream",
          "name": "stderr",
          "text": [
            "100%|██████████| 29515/29515 [00:00<00:00, 303839.59it/s]\n"
          ]
        },
        {
          "output_type": "stream",
          "name": "stdout",
          "text": [
            "Extracting data/FashionMNIST/raw/train-labels-idx1-ubyte.gz to data/FashionMNIST/raw\n",
            "\n",
            "Downloading http://fashion-mnist.s3-website.eu-central-1.amazonaws.com/t10k-images-idx3-ubyte.gz\n",
            "Downloading http://fashion-mnist.s3-website.eu-central-1.amazonaws.com/t10k-images-idx3-ubyte.gz to data/FashionMNIST/raw/t10k-images-idx3-ubyte.gz\n"
          ]
        },
        {
          "output_type": "stream",
          "name": "stderr",
          "text": [
            "100%|██████████| 4422102/4422102 [00:00<00:00, 5441970.68it/s]\n"
          ]
        },
        {
          "output_type": "stream",
          "name": "stdout",
          "text": [
            "Extracting data/FashionMNIST/raw/t10k-images-idx3-ubyte.gz to data/FashionMNIST/raw\n",
            "\n",
            "Downloading http://fashion-mnist.s3-website.eu-central-1.amazonaws.com/t10k-labels-idx1-ubyte.gz\n",
            "Downloading http://fashion-mnist.s3-website.eu-central-1.amazonaws.com/t10k-labels-idx1-ubyte.gz to data/FashionMNIST/raw/t10k-labels-idx1-ubyte.gz\n"
          ]
        },
        {
          "output_type": "stream",
          "name": "stderr",
          "text": [
            "100%|██████████| 5148/5148 [00:00<00:00, 14158870.16it/s]"
          ]
        },
        {
          "output_type": "stream",
          "name": "stdout",
          "text": [
            "Extracting data/FashionMNIST/raw/t10k-labels-idx1-ubyte.gz to data/FashionMNIST/raw\n",
            "\n"
          ]
        },
        {
          "output_type": "stream",
          "name": "stderr",
          "text": [
            "\n"
          ]
        }
      ]
    },
    {
      "cell_type": "code",
      "source": [
        "len(train_data),len(test_data)"
      ],
      "metadata": {
        "colab": {
          "base_uri": "https://localhost:8080/"
        },
        "id": "WEleRbC4PlUX",
        "outputId": "e114653a-bb83-40e9-a014-e6fc2bad6dcb"
      },
      "execution_count": 4,
      "outputs": [
        {
          "output_type": "execute_result",
          "data": {
            "text/plain": [
              "(60000, 10000)"
            ]
          },
          "metadata": {},
          "execution_count": 4
        }
      ]
    },
    {
      "cell_type": "code",
      "source": [
        "# see the first training examples\n",
        "\n",
        "image,label=train_data[0]\n",
        "image.shape,label"
      ],
      "metadata": {
        "colab": {
          "base_uri": "https://localhost:8080/"
        },
        "id": "yjO9BUiuP6Xr",
        "outputId": "8f0da5a6-1638-4dc7-c6f6-b08a40627595"
      },
      "execution_count": 5,
      "outputs": [
        {
          "output_type": "execute_result",
          "data": {
            "text/plain": [
              "(torch.Size([1, 28, 28]), 9)"
            ]
          },
          "metadata": {},
          "execution_count": 5
        }
      ]
    },
    {
      "cell_type": "code",
      "source": [
        "class_names=train_data.classes\n",
        "class_names"
      ],
      "metadata": {
        "colab": {
          "base_uri": "https://localhost:8080/"
        },
        "id": "Qbf6K7BpQG3d",
        "outputId": "1f20387d-fc0a-4a70-b9b7-663acc161578"
      },
      "execution_count": 6,
      "outputs": [
        {
          "output_type": "execute_result",
          "data": {
            "text/plain": [
              "['T-shirt/top',\n",
              " 'Trouser',\n",
              " 'Pullover',\n",
              " 'Dress',\n",
              " 'Coat',\n",
              " 'Sandal',\n",
              " 'Shirt',\n",
              " 'Sneaker',\n",
              " 'Bag',\n",
              " 'Ankle boot']"
            ]
          },
          "metadata": {},
          "execution_count": 6
        }
      ]
    },
    {
      "cell_type": "code",
      "source": [
        "class_name_idx=train_data.class_to_idx\n",
        "class_name_idx"
      ],
      "metadata": {
        "colab": {
          "base_uri": "https://localhost:8080/"
        },
        "id": "aLNaLRfHRtZj",
        "outputId": "0853cc94-8e5d-49fa-b058-66ba392957d0"
      },
      "execution_count": 7,
      "outputs": [
        {
          "output_type": "execute_result",
          "data": {
            "text/plain": [
              "{'T-shirt/top': 0,\n",
              " 'Trouser': 1,\n",
              " 'Pullover': 2,\n",
              " 'Dress': 3,\n",
              " 'Coat': 4,\n",
              " 'Sandal': 5,\n",
              " 'Shirt': 6,\n",
              " 'Sneaker': 7,\n",
              " 'Bag': 8,\n",
              " 'Ankle boot': 9}"
            ]
          },
          "metadata": {},
          "execution_count": 7
        }
      ]
    },
    {
      "cell_type": "markdown",
      "source": [
        "## visulizing our data"
      ],
      "metadata": {
        "id": "4_zc4GICQbS9"
      }
    },
    {
      "cell_type": "code",
      "source": [
        "plt.imshow(image.squeeze()) # matplotlib requires (h,w) or (h,w,c) but not (c,h,w)"
      ],
      "metadata": {
        "colab": {
          "base_uri": "https://localhost:8080/",
          "height": 447
        },
        "id": "6WCW88AFQ8FN",
        "outputId": "c800c0d8-03e2-4b33-b118-6031fcd79f60"
      },
      "execution_count": 8,
      "outputs": [
        {
          "output_type": "execute_result",
          "data": {
            "text/plain": [
              "<matplotlib.image.AxesImage at 0x7b6e7b2bb5e0>"
            ]
          },
          "metadata": {},
          "execution_count": 8
        },
        {
          "output_type": "display_data",
          "data": {
            "text/plain": [
              "<Figure size 640x480 with 1 Axes>"
            ],
            "image/png": "[encoded data removed]"
          },
          "metadata": {}
        }
      ]
    },
    {
      "cell_type": "code",
      "source": [
        "plt.imshow(image.squeeze(),cmap=\"gray\")\n",
        "plt.title(class_names[label])"
      ],
      "metadata": {
        "colab": {
          "base_uri": "https://localhost:8080/",
          "height": 469
        },
        "id": "0Ef__8UrRX_t",
        "outputId": "9640046a-305b-438f-86b3-00ab74bbbdca"
      },
      "execution_count": 9,
      "outputs": [
        {
          "output_type": "execute_result",
          "data": {
            "text/plain": [
              "Text(0.5, 1.0, 'Ankle boot')"
            ]
          },
          "metadata": {},
          "execution_count": 9
        },
        {
          "output_type": "display_data",
          "data": {
            "text/plain": [
              "<Figure size 640x480 with 1 Axes>"
            ],
            "image/png": "[encoded data removed]"
          },
          "metadata": {}
        }
      ]
    },
    {
      "cell_type": "code",
      "source": [
        "# plot more images\n",
        "# torch.manual_seed(42)\n",
        "plt.figure(figsize=(9,9))\n",
        "rows,cols=4,4\n",
        "for i in range(1,rows*cols+1):\n",
        "  random_idx=torch.randint(0,len(train_data),size=[1]).item()\n",
        "  img,label=train_data[random_idx]\n",
        "  plt.subplot(rows,cols,i)\n",
        "  plt.imshow(img.squeeze(),cmap=\"gray\")\n",
        "  plt.title(class_names[label])\n",
        "  plt.axis(False)"
      ],
      "metadata": {
        "colab": {
          "base_uri": "https://localhost:8080/",
          "height": 752
        },
        "id": "ncqdK8xdRiIB",
        "outputId": "c4ddf44c-9c33-46db-b98f-ef10365d8f16"
      },
      "execution_count": 10,
      "outputs": [
        {
          "output_type": "display_data",
          "data": {
            "text/plain": [
              "<Figure size 900x900 with 16 Axes>"
            ],
            "image/png": "[encoded data removed]"
          },
          "metadata": {}
        }
      ]
    },
    {
      "cell_type": "code",
      "source": [
        "train_data,test_data"
      ],
      "metadata": {
        "colab": {
          "base_uri": "https://localhost:8080/"
        },
        "id": "2myGA1ILT3_D",
        "outputId": "c244c29e-8aae-4fea-f856-5d3e17ddb8d3"
      },
      "execution_count": 11,
      "outputs": [
        {
          "output_type": "execute_result",
          "data": {
            "text/plain": [
              "(Dataset FashionMNIST\n",
              "     Number of datapoints: 60000\n",
              "     Root location: data\n",
              "     Split: Train\n",
              "     StandardTransform\n",
              " Transform: ToTensor(),\n",
              " Dataset FashionMNIST\n",
              "     Number of datapoints: 10000\n",
              "     Root location: data\n",
              "     Split: Test\n",
              "     StandardTransform\n",
              " Transform: ToTensor())"
            ]
          },
          "metadata": {},
          "execution_count": 11
        }
      ]
    },
    {
      "cell_type": "markdown",
      "source": [
        "##prepare dataloader\n",
        "\n",
        "right now our dataset is in the form of pytorch dataset\n",
        "\n",
        "dataloader turns our dataset into a pyton itterable\n",
        "\n",
        "more specifically, we want to turn our data into mini batches"
      ],
      "metadata": {
        "id": "tiilGFS2ARwC"
      }
    },
    {
      "cell_type": "code",
      "source": [
        "train_dataloader=DataLoader(dataset=train_data,batch_size=32,shuffle=True)\n",
        "\n",
        "test_dataloader=DataLoader(dataset=test_data,batch_size=32,shuffle=False)\n",
        "\n",
        "train_dataloader,test_dataloader"
      ],
      "metadata": {
        "colab": {
          "base_uri": "https://localhost:8080/"
        },
        "id": "fWK7lRkgA9-u",
        "outputId": "c6e8a687-2085-48c5-a744-c77399f50de6"
      },
      "execution_count": 15,
      "outputs": [
        {
          "output_type": "execute_result",
          "data": {
            "text/plain": [
              "(<torch.utils.data.dataloader.DataLoader at 0x7b6e7259bd90>,\n",
              " <torch.utils.data.dataloader.DataLoader at 0x7b6e7259b400>)"
            ]
          },
          "metadata": {},
          "execution_count": 15
        }
      ]
    },
    {
      "cell_type": "code",
      "source": [
        "len(train_dataloader) #thus 1875 batches of 32 training samples"
      ],
      "metadata": {
        "colab": {
          "base_uri": "https://localhost:8080/"
        },
        "id": "Z1xDoOsRCH01",
        "outputId": "248c2763-a851-4c87-bb12-6b8eb9c73cb8"
      },
      "execution_count": 16,
      "outputs": [
        {
          "output_type": "execute_result",
          "data": {
            "text/plain": [
              "1875"
            ]
          },
          "metadata": {},
          "execution_count": 16
        }
      ]
    },
    {
      "cell_type": "code",
      "source": [
        "len(test_dataloader) # thus 313 batches of approx 32 testing samples"
      ],
      "metadata": {
        "colab": {
          "base_uri": "https://localhost:8080/"
        },
        "id": "vf9yha8jCP8h",
        "outputId": "3c2240e2-6451-4f95-9abe-1ae571e0a4a1"
      },
      "execution_count": 18,
      "outputs": [
        {
          "output_type": "execute_result",
          "data": {
            "text/plain": [
              "313"
            ]
          },
          "metadata": {},
          "execution_count": 18
        }
      ]
    },
    {
      "cell_type": "code",
      "source": [
        "#lets check whats inside the train data loader\n",
        "\n",
        "train_features_batch,train_labels_batch=next(iter(train_dataloader))\n",
        "train_features_batch.shape,train_labels_batch.shape"
      ],
      "metadata": {
        "colab": {
          "base_uri": "https://localhost:8080/"
        },
        "id": "TPsAncSNCn7O",
        "outputId": "bbbd1e0d-4dc0-477c-a8ed-c15030fb364b"
      },
      "execution_count": 19,
      "outputs": [
        {
          "output_type": "execute_result",
          "data": {
            "text/plain": [
              "(torch.Size([32, 1, 28, 28]), torch.Size([32]))"
            ]
          },
          "metadata": {},
          "execution_count": 19
        }
      ]
    },
    {
      "cell_type": "code",
      "source": [
        "#show a sample\n",
        "# torch.manual_seed(42)\n",
        "random_idx=torch.randint(0,len(train_features_batch),size=[1]).item()\n",
        "img,label=train_features_batch[random_idx],train_labels_batch[random_idx]\n",
        "plt.imshow(img.squeeze(),cmap=\"gray\")\n",
        "plt.title(class_names[label])\n",
        "print(img.shape)\n"
      ],
      "metadata": {
        "colab": {
          "base_uri": "https://localhost:8080/",
          "height": 469
        },
        "id": "73d1WYi5CnzG",
        "outputId": "fe01709a-b66c-48b5-fe02-f15a3a2e7d53"
      },
      "execution_count": 41,
      "outputs": [
        {
          "output_type": "stream",
          "name": "stdout",
          "text": [
            "torch.Size([1, 28, 28])\n"
          ]
        },
        {
          "output_type": "display_data",
          "data": {
            "text/plain": [
              "<Figure size 640x480 with 1 Axes>"
            ],
            "image/png": "[encoded data removed]"
          },
          "metadata": {}
        }
      ]
    },
    {
      "cell_type": "code",
      "source": [
        "#building a baseline model\n",
        "\n",
        "class FashionMNISTmodel0(nn.Module):\n",
        "  def __init__(self,input_shape:int,hidden_units:int,output_shape:int):\n",
        "    super().__init__()\n",
        "    self.layer_stack=nn.Sequential(\n",
        "      nn.Flatten(),\n",
        "      nn.Linear(in_features=input_shape,out_features=hidden_units),\n",
        "      nn.Linear(in_features=hidden_units,out_features=output_shape)\n",
        "    )\n",
        "\n",
        "  def forward(self,x):\n",
        "    return self.layer_stack(x)\n",
        "\n",
        "\n",
        "model=FashionMNISTmodel0(input_shape=28*28,hidden_units=10,output_shape=len(class_names))\n",
        "model\n"
      ],
      "metadata": {
        "colab": {
          "base_uri": "https://localhost:8080/"
        },
        "id": "OuzmIEDHCnG3",
        "outputId": "3a65bc15-baeb-47aa-82f9-b0a6b93252a5"
      },
      "execution_count": 56,
      "outputs": [
        {
          "output_type": "execute_result",
          "data": {
            "text/plain": [
              "FashionMNISTmodel0(\n",
              "  (layer_stack): Sequential(\n",
              "    (0): Flatten(start_dim=1, end_dim=-1)\n",
              "    (1): Linear(in_features=784, out_features=10, bias=True)\n",
              "    (2): Linear(in_features=10, out_features=10, bias=True)\n",
              "  )\n",
              ")"
            ]
          },
          "metadata": {},
          "execution_count": 56
        }
      ]
    },
    {
      "cell_type": "code",
      "source": [
        "model.state_dict()"
      ],
      "metadata": {
        "colab": {
          "base_uri": "https://localhost:8080/"
        },
        "id": "Jfb3Xb9CFINQ",
        "outputId": "b618656c-bbde-4de6-bc1b-f602e9a75b13"
      },
      "execution_count": 46,
      "outputs": [
        {
          "output_type": "execute_result",
          "data": {
            "text/plain": [
              "OrderedDict([('layer_stack.1.weight',\n",
              "              tensor([[ 0.0053, -0.0167,  0.0091,  ..., -0.0241,  0.0349, -0.0072],\n",
              "                      [ 0.0142, -0.0319,  0.0206,  ..., -0.0304,  0.0081,  0.0005],\n",
              "                      [ 0.0217,  0.0023,  0.0029,  ...,  0.0071,  0.0319, -0.0184],\n",
              "                      ...,\n",
              "                      [-0.0126, -0.0093,  0.0024,  ...,  0.0224, -0.0069,  0.0233],\n",
              "                      [-0.0008, -0.0126, -0.0139,  ..., -0.0216,  0.0082,  0.0110],\n",
              "                      [ 0.0066,  0.0330,  0.0033,  ...,  0.0238,  0.0122, -0.0257]])),\n",
              "             ('layer_stack.1.bias',\n",
              "              tensor([-0.0120,  0.0228,  0.0321, -0.0169,  0.0152, -0.0084,  0.0227, -0.0054,\n",
              "                      -0.0284, -0.0354])),\n",
              "             ('layer_stack.2.weight',\n",
              "              tensor([[-0.0118,  0.0932, -0.1864,  0.2488,  0.1500,  0.1907,  0.1457, -0.3050,\n",
              "                       -0.0580,  0.1643],\n",
              "                      [ 0.1565, -0.2877, -0.1792,  0.2305, -0.2618,  0.2397, -0.0610,  0.0232,\n",
              "                        0.1542,  0.0851],\n",
              "                      [-0.2027,  0.1030, -0.2715, -0.1596, -0.0555, -0.0633,  0.2302, -0.1726,\n",
              "                        0.2654,  0.1473],\n",
              "                      [ 0.1029,  0.2252, -0.2160, -0.2725,  0.0118,  0.1559,  0.1596,  0.0132,\n",
              "                        0.3024,  0.1124],\n",
              "                      [ 0.1366, -0.1533,  0.0965, -0.1184, -0.2555, -0.2057, -0.1909, -0.0477,\n",
              "                       -0.1324,  0.2905],\n",
              "                      [ 0.1307, -0.2629,  0.0133,  0.2727, -0.0127,  0.0513,  0.0863, -0.1043,\n",
              "                       -0.2047, -0.1185],\n",
              "                      [-0.0825,  0.2488, -0.2571,  0.0425, -0.1209, -0.0336, -0.0281, -0.1227,\n",
              "                        0.0730,  0.0747],\n",
              "                      [-0.1816,  0.1943,  0.2853, -0.1310,  0.0645, -0.1171,  0.2168, -0.0245,\n",
              "                       -0.2820,  0.0736],\n",
              "                      [ 0.2621,  0.0012, -0.0810, -0.0087,  0.1791,  0.2712, -0.0791,  0.1685,\n",
              "                        0.1762,  0.2825],\n",
              "                      [ 0.2266, -0.2612, -0.2613, -0.2624,  0.1987, -0.1606,  0.1747, -0.0471,\n",
              "                       -0.1303,  0.2380]])),\n",
              "             ('layer_stack.2.bias',\n",
              "              tensor([-0.0611, -0.1707, -0.0485, -0.2011, -0.3045, -0.0554, -0.0178, -0.1802,\n",
              "                       0.2803, -0.0706]))])"
            ]
          },
          "metadata": {},
          "execution_count": 46
        }
      ]
    },
    {
      "cell_type": "code",
      "source": [
        "dummy_x=torch.rand([1,1,28,28])\n",
        "model(dummy_x)"
      ],
      "metadata": {
        "colab": {
          "base_uri": "https://localhost:8080/"
        },
        "id": "1RYP8iQJH2Q0",
        "outputId": "a789ea90-3fca-4cd4-d2bb-07cfa101aa2f"
      },
      "execution_count": 47,
      "outputs": [
        {
          "output_type": "execute_result",
          "data": {
            "text/plain": [
              "tensor([[-0.1346, -0.1822,  0.4106,  0.0670, -0.5223, -0.3235,  0.1189, -0.2083,\n",
              "          0.2132, -0.1851]], grad_fn=<AddmmBackward0>)"
            ]
          },
          "metadata": {},
          "execution_count": 47
        }
      ]
    },
    {
      "cell_type": "code",
      "source": [
        "# Calculate accuracy (a classification metric)\n",
        "def accuracy_fn(y_true, y_pred):\n",
        "    correct = torch.eq(y_true, y_pred).sum().item() # torch.eq() calculates where two tensors are equal\n",
        "    acc = (correct / len(y_pred)) * 100\n",
        "    return acc"
      ],
      "metadata": {
        "id": "JywQlHHTO12t"
      },
      "execution_count": 48,
      "outputs": []
    },
    {
      "cell_type": "code",
      "source": [
        "loss_fn=nn.CrossEntropyLoss()\n",
        "optimizer=torch.optim.SGD(params=model.parameters(),lr=0.1)"
      ],
      "metadata": {
        "id": "cSgEVFYnITId"
      },
      "execution_count": 57,
      "outputs": []
    },
    {
      "cell_type": "code",
      "source": [
        "from os import P_PID\n",
        "import requests\n",
        "import pathlib\n",
        "from pathlib import Path\n",
        "\n",
        "# download helper functions from learn pytorch repo\n",
        "\n",
        "if Path(\"helper_functions.py\").is_file():\n",
        "  print(\"helper_functions.py already exists\")\n",
        "else:\n",
        "  print(\"downloading helper_functions.py\")\n",
        "  request=requests.get(\"https://raw.githubusercontent.com/mrdbourke/pytorch-deep-learning/main/helper_functions.py\")\n",
        "  with open(\"helper_functions.py\",\"wb\") as f:\n",
        "    f.write(request.content)"
      ],
      "metadata": {
        "colab": {
          "base_uri": "https://localhost:8080/"
        },
        "id": "wsUoB-dTO-sO",
        "outputId": "9ec6c3e3-4370-4b54-bd06-7e1caaea2d47"
      },
      "execution_count": 49,
      "outputs": [
        {
          "output_type": "stream",
          "name": "stdout",
          "text": [
            "downloading helper_functions.py\n"
          ]
        }
      ]
    },
    {
      "cell_type": "code",
      "source": [
        "from helper_functions import accuracy_fn"
      ],
      "metadata": {
        "id": "klAGLqU9QFNa"
      },
      "execution_count": 50,
      "outputs": []
    },
    {
      "cell_type": "markdown",
      "source": [
        "## creating a function to time our experiments\n",
        "\n",
        "ML is very experimental\n",
        "\n",
        "the 2 main things we often track is :\n",
        "\n",
        "1.the models performance (loss and accuracy)\n",
        "\n",
        "2.how fast it runs\n",
        "\n",
        "note: usually model peromance and time taken by model our inversely related\n"
      ],
      "metadata": {
        "id": "WZNHiGCFQUEj"
      }
    },
    {
      "cell_type": "code",
      "source": [
        "from timeit import default_timer as Timer\n",
        "\n",
        "def train_time(start:float,end:float):\n",
        "  # \"\"\" prints the difference btw the strt and end time\"\"\"\n",
        "\n",
        "  total_time=end-start\n",
        "  print(f\" Train time is: {total_time:.3f} seconds\")\n",
        "  return total_time\n"
      ],
      "metadata": {
        "id": "-wSAEoorScJJ"
      },
      "execution_count": 66,
      "outputs": []
    },
    {
      "cell_type": "code",
      "source": [
        "start_time=Timer()\n",
        "\n",
        "end_time=Timer()\n",
        "\n",
        "train_time(start_time,end_time)\n"
      ],
      "metadata": {
        "colab": {
          "base_uri": "https://localhost:8080/"
        },
        "id": "FI4sVES0UV97",
        "outputId": "b8b08d0e-6861-45ce-8dcb-baf86cedc472"
      },
      "execution_count": 70,
      "outputs": [
        {
          "output_type": "stream",
          "name": "stdout",
          "text": [
            " Train time is: 0.000 seconds\n"
          ]
        },
        {
          "output_type": "execute_result",
          "data": {
            "text/plain": [
              "4.832600006920984e-05"
            ]
          },
          "metadata": {},
          "execution_count": 70
        }
      ]
    },
    {
      "cell_type": "markdown",
      "source": [
        "# creating training loop and training a model on batches of data"
      ],
      "metadata": {
        "id": "nelEU9m2U7My"
      }
    },
    {
      "cell_type": "code",
      "source": [
        "# import tqdm # a progress bar for epochs\n",
        "\n",
        "# from tqdm.auto import tqdm\n",
        "\n",
        "# torch.manual_seed(42)\n",
        "# train_time_start=Timer()\n",
        "# epochs=3\n",
        "\n",
        "# for i in tqdm(range(epochs)):\n",
        "#   print(f\"Epoch:{epoch}\\n------\")\n",
        "#   train_loss=0\n",
        "#   model.train()\n",
        "#   # add a loop to loop through our training batches\n",
        "#   for batch,(x,y) in enumerate(train_dataloader):\n",
        "\n",
        "\n"
      ],
      "metadata": {
        "id": "5lRTaMwuVj1d"
      },
      "execution_count": 71,
      "outputs": []
    }
  ],
  "metadata": {
    "colab": {
      "provenance": [],
      "include_colab_link": true
    },
    "kernelspec": {
      "display_name": "Python 3",
      "name": "python3"
    },
    "language_info": {
      "name": "python"
    }
  },
  "nbformat": 4,
  "nbformat_minor": 0
}